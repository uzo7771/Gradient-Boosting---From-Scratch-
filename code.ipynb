{
 "cells": [
  {
   "cell_type": "code",
   "execution_count": 1,
   "metadata": {},
   "outputs": [],
   "source": [
    "import numpy as np\n",
    "from sklearn.datasets import fetch_california_housing\n",
    "from sklearn.model_selection import train_test_split\n",
    "from sklearn.metrics import mean_squared_error\n",
    "from gradient_boosting import GradientBoosting"
   ]
  },
  {
   "cell_type": "code",
   "execution_count": 2,
   "metadata": {},
   "outputs": [],
   "source": [
    "df = fetch_california_housing(as_frame=True).frame\n",
    "X = df.drop(columns=[\"MedHouseVal\"])\n",
    "y = df[\"MedHouseVal\"]\n",
    "X = X.to_numpy()\n",
    "y = y.to_numpy()\n",
    "X_train, X_test, y_train, y_test = train_test_split(X,y, test_size=0.2, random_state=2)"
   ]
  },
  {
   "cell_type": "code",
   "execution_count": 3,
   "metadata": {},
   "outputs": [
    {
     "name": "stdout",
     "output_type": "stream",
     "text": [
      "Tree 1/100, MSE: 1.2241103857260243\n",
      "Tree 2/100, MSE: 1.1597704332645389\n",
      "Tree 3/100, MSE: 1.1053577292970294\n",
      "Tree 4/100, MSE: 1.0576646035142745\n",
      "Tree 5/100, MSE: 0.9964708927771471\n",
      "Tree 6/100, MSE: 0.9633299395775856\n",
      "Tree 7/100, MSE: 0.9184142091474935\n",
      "Tree 8/100, MSE: 0.8939468907261828\n",
      "Tree 9/100, MSE: 0.8724835892103389\n",
      "Tree 10/100, MSE: 0.842400940563295\n",
      "Tree 11/100, MSE: 0.8263468648806717\n",
      "Tree 12/100, MSE: 0.8124030484793935\n",
      "Tree 13/100, MSE: 0.7911484540544805\n",
      "Tree 14/100, MSE: 0.7804579945201148\n",
      "Tree 15/100, MSE: 0.7708948993353391\n",
      "Tree 16/100, MSE: 0.7553061628923756\n",
      "Tree 17/100, MSE: 0.7476630973262468\n",
      "Tree 18/100, MSE: 0.7411398735089957\n",
      "Tree 19/100, MSE: 0.7348401528525117\n",
      "Tree 20/100, MSE: 0.7233702374411405\n",
      "Tree 21/100, MSE: 0.7179854076332225\n",
      "Tree 22/100, MSE: 0.713083832415302\n",
      "Tree 23/100, MSE: 0.7080380546127893\n",
      "Tree 24/100, MSE: 0.7033183826100323\n",
      "Tree 25/100, MSE: 0.6989988016094831\n",
      "Tree 26/100, MSE: 0.6948949480271197\n",
      "Tree 27/100, MSE: 0.69096141079743\n",
      "Tree 28/100, MSE: 0.6871259241194863\n",
      "Tree 29/100, MSE: 0.6832135419922145\n",
      "Tree 30/100, MSE: 0.679548267289656\n",
      "Tree 31/100, MSE: 0.6761829353420724\n",
      "Tree 32/100, MSE: 0.6728255904816213\n",
      "Tree 33/100, MSE: 0.6696427894453741\n",
      "Tree 34/100, MSE: 0.666428349140129\n",
      "Tree 35/100, MSE: 0.6634181132022163\n",
      "Tree 36/100, MSE: 0.6604043936964271\n",
      "Tree 37/100, MSE: 0.6574570634109289\n",
      "Tree 38/100, MSE: 0.6545175698308292\n",
      "Tree 39/100, MSE: 0.6516392965877826\n",
      "Tree 40/100, MSE: 0.648953430937109\n",
      "Tree 41/100, MSE: 0.6460061119829357\n",
      "Tree 42/100, MSE: 0.6434848862613026\n",
      "Tree 43/100, MSE: 0.6410143826917707\n",
      "Tree 44/100, MSE: 0.6384813717062353\n",
      "Tree 45/100, MSE: 0.6361087160149288\n",
      "Tree 46/100, MSE: 0.6337595141574771\n",
      "Tree 47/100, MSE: 0.631233145911895\n",
      "Tree 48/100, MSE: 0.6288754954294997\n",
      "Tree 49/100, MSE: 0.6265618900298134\n",
      "Tree 50/100, MSE: 0.624382416037293\n",
      "Tree 51/100, MSE: 0.6222438334750032\n",
      "Tree 52/100, MSE: 0.6201303681618952\n",
      "Tree 53/100, MSE: 0.6180494495462457\n",
      "Tree 54/100, MSE: 0.615994887972592\n",
      "Tree 55/100, MSE: 0.6138201727086152\n",
      "Tree 56/100, MSE: 0.6119240510455545\n",
      "Tree 57/100, MSE: 0.6099403982607997\n",
      "Tree 58/100, MSE: 0.608123901624131\n",
      "Tree 59/100, MSE: 0.6061989167650884\n",
      "Tree 60/100, MSE: 0.6043534797362237\n",
      "Tree 61/100, MSE: 0.6026159955048799\n",
      "Tree 62/100, MSE: 0.6009183497139141\n",
      "Tree 63/100, MSE: 0.5992489362013418\n",
      "Tree 64/100, MSE: 0.5975745049496385\n",
      "Tree 65/100, MSE: 0.5959872521940144\n",
      "Tree 66/100, MSE: 0.5943787587940282\n",
      "Tree 67/100, MSE: 0.5927979899694148\n",
      "Tree 68/100, MSE: 0.5912734771086782\n",
      "Tree 69/100, MSE: 0.5897663233501871\n",
      "Tree 70/100, MSE: 0.5883020275431528\n",
      "Tree 71/100, MSE: 0.586919241848056\n",
      "Tree 72/100, MSE: 0.5854498963853035\n",
      "Tree 73/100, MSE: 0.5840402282129531\n",
      "Tree 74/100, MSE: 0.5826853096900465\n",
      "Tree 75/100, MSE: 0.5813302894233436\n",
      "Tree 76/100, MSE: 0.5800452749975625\n",
      "Tree 77/100, MSE: 0.5787493686643855\n",
      "Tree 78/100, MSE: 0.5775136077336436\n",
      "Tree 79/100, MSE: 0.5762096919685636\n",
      "Tree 80/100, MSE: 0.5750342388849338\n",
      "Tree 81/100, MSE: 0.5738798369363031\n",
      "Tree 82/100, MSE: 0.572703223037882\n",
      "Tree 83/100, MSE: 0.5715708989675046\n",
      "Tree 84/100, MSE: 0.5704185223277424\n",
      "Tree 85/100, MSE: 0.5693412514435935\n",
      "Tree 86/100, MSE: 0.5682691744933133\n",
      "Tree 87/100, MSE: 0.5671395403986176\n",
      "Tree 88/100, MSE: 0.5660660089974806\n",
      "Tree 89/100, MSE: 0.5649924481894834\n",
      "Tree 90/100, MSE: 0.5639436901585781\n",
      "Tree 91/100, MSE: 0.5629443025620948\n",
      "Tree 92/100, MSE: 0.561865669579695\n",
      "Tree 93/100, MSE: 0.5608977447785811\n",
      "Tree 94/100, MSE: 0.5599183021624129\n",
      "Tree 95/100, MSE: 0.5589160415882133\n",
      "Tree 96/100, MSE: 0.5579801233340106\n",
      "Tree 97/100, MSE: 0.5570080548815386\n",
      "Tree 98/100, MSE: 0.5560778519928928\n",
      "Tree 99/100, MSE: 0.5551742667758635\n",
      "Tree 100/100, MSE: 0.5542758449857019\n"
     ]
    },
    {
     "data": {
      "text/plain": [
       "0.5814974253141609"
      ]
     },
     "execution_count": 3,
     "metadata": {},
     "output_type": "execute_result"
    }
   ],
   "source": [
    "model = GradientBoosting(X_train, y_train, n_trees=100, verbose=True)\n",
    "model.fit()\n",
    "pred = model.predict(X_test)\n",
    "mean_squared_error(pred, y_test)"
   ]
  }
 ],
 "metadata": {
  "kernelspec": {
   "display_name": "Python 3",
   "language": "python",
   "name": "python3"
  },
  "language_info": {
   "codemirror_mode": {
    "name": "ipython",
    "version": 3
   },
   "file_extension": ".py",
   "mimetype": "text/x-python",
   "name": "python",
   "nbconvert_exporter": "python",
   "pygments_lexer": "ipython3",
   "version": "3.9.13"
  }
 },
 "nbformat": 4,
 "nbformat_minor": 2
}
